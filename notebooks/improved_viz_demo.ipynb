{
 "cells": [
  {
   "cell_type": "markdown",
   "metadata": {
    "pycharm": {
     "name": "#%% md\n"
    }
   },
   "source": [
    "![Event Prediction using Case-Based Reasoning over Knowledge Graphs](../images/titleslide.png)\n"
   ]
  },
  {
   "cell_type": "markdown",
   "metadata": {
    "pycharm": {
     "name": "#%% md\n"
    }
   },
   "source": [
    "In this demonstration, we present EvCBR, a case-based reasoning model for knowledge-driven\n",
    "event prediction.\n",
    "We will first load up a model,\n",
    "with some preprocessing already performed on the KG, and demonstrate two examples for\n",
    "predicting properties about the Effect of a new Cause event."
   ]
  },
  {
   "cell_type": "code",
   "execution_count": 1,
   "metadata": {},
   "outputs": [],
   "source": [
    "from evcbr import EvCBR\n",
    "from utils import *\n",
    "from rdflib import Graph, Literal\n",
    "import random\n",
    "import pandas as pd"
   ]
  },
  {
   "cell_type": "code",
   "execution_count": 2,
   "metadata": {
    "pycharm": {
     "name": "#%%\n"
    }
   },
   "outputs": [],
   "source": [
    "full_kg_file = (DATA_DIR / \"demo_kg\"/\"wikidata_cc_full_3_hop.nt\").resolve()\n",
    "model_kg_file = (DATA_DIR / \"demo_kg\"/\"wikidata_cc_nolit_3_hop.nt\").resolve()\n",
    "\n",
    "preprocessed_sim_dir = (DATA_DIR / \"pp_wiki_full\").resolve()\n",
    "full_kg = Graph()\n",
    "full_kg.bind(\"wd\", WD)\n",
    "full_kg.bind(\"wdt\", WDT)\n",
    "full_kg.parse(str(full_kg_file), format='nt')\n",
    "# remove literals form the kg to use in the model\n",
    "model_kg = Graph()\n",
    "model_kg.parse(str(model_kg_file), format='nt')\n",
    "add_haseffect_relations(model_kg)\n",
    "\n",
    "model = EvCBR(KG=model_kg, preprocessed_data_dir=preprocessed_sim_dir)"
   ]
  },
  {
   "cell_type": "markdown",
   "metadata": {
    "pycharm": {
     "name": "#%% md\n"
    }
   },
   "source": [
    "Our first example will be to predict the effect of a new Megathrust Earthquake event that occurs in Japan.\n",
    "First we'll query the KG to search for the appropriate URIs to use for our inputs of the new event."
   ]
  },
  {
   "cell_type": "code",
   "execution_count": 3,
   "metadata": {
    "pycharm": {
     "name": "#%%\n"
    }
   },
   "outputs": [
    {
     "name": "stdout",
     "output_type": "stream",
     "text": [
      "Matching results for Megathrust Earthquake\n"
     ]
    },
    {
     "data": {
      "text/html": [
       "<div>\n",
       "<style scoped>\n",
       "    .dataframe tbody tr th:only-of-type {\n",
       "        vertical-align: middle;\n",
       "    }\n",
       "\n",
       "    .dataframe tbody tr th {\n",
       "        vertical-align: top;\n",
       "    }\n",
       "\n",
       "    .dataframe thead th {\n",
       "        text-align: right;\n",
       "    }\n",
       "</style>\n",
       "<table border=\"1\" class=\"dataframe\">\n",
       "  <thead>\n",
       "    <tr style=\"text-align: right;\">\n",
       "      <th></th>\n",
       "      <th>QID</th>\n",
       "      <th>Label</th>\n",
       "    </tr>\n",
       "  </thead>\n",
       "  <tbody>\n",
       "    <tr>\n",
       "      <th>0</th>\n",
       "      <td>http://www.wikidata.org/entity/Q727990</td>\n",
       "      <td>megathrust earthquake</td>\n",
       "    </tr>\n",
       "  </tbody>\n",
       "</table>\n",
       "</div>"
      ],
      "text/plain": [
       "                                      QID                  Label\n",
       "0  http://www.wikidata.org/entity/Q727990  megathrust earthquake"
      ]
     },
     "execution_count": 3,
     "metadata": {},
     "output_type": "execute_result"
    }
   ],
   "source": [
    "query_results = full_kg.query(\"\"\"\n",
    "select ?qid ?label\n",
    "where {\n",
    "    ?qid rdfs:label ?label.\n",
    "    filter( regex(?label, \"megathrust earthquake\" ))\n",
    "}\n",
    "\"\"\")\n",
    "print(\"Matching results for Megathrust Earthquake\")\n",
    "\n",
    "results = [{'QID':res.qid, 'Label':res.label} for res in query_results]\n",
    "res = pd.json_normalize(results)\n",
    "res.head(3)"
   ]
  },
  {
   "cell_type": "code",
   "execution_count": 4,
   "metadata": {
    "pycharm": {
     "name": "#%%\n"
    }
   },
   "outputs": [
    {
     "name": "stdout",
     "output_type": "stream",
     "text": [
      "Matching results for Japan\n"
     ]
    },
    {
     "data": {
      "text/html": [
       "<div>\n",
       "<style scoped>\n",
       "    .dataframe tbody tr th:only-of-type {\n",
       "        vertical-align: middle;\n",
       "    }\n",
       "\n",
       "    .dataframe tbody tr th {\n",
       "        vertical-align: top;\n",
       "    }\n",
       "\n",
       "    .dataframe thead th {\n",
       "        text-align: right;\n",
       "    }\n",
       "</style>\n",
       "<table border=\"1\" class=\"dataframe\">\n",
       "  <thead>\n",
       "    <tr style=\"text-align: right;\">\n",
       "      <th></th>\n",
       "      <th>QID</th>\n",
       "      <th>Label</th>\n",
       "    </tr>\n",
       "  </thead>\n",
       "  <tbody>\n",
       "    <tr>\n",
       "      <th>168</th>\n",
       "      <td>http://www.wikidata.org/entity/Q17</td>\n",
       "      <td>Japan</td>\n",
       "    </tr>\n",
       "    <tr>\n",
       "      <th>32</th>\n",
       "      <td>http://www.wikidata.org/entity/Q58893412</td>\n",
       "      <td>Japanese</td>\n",
       "    </tr>\n",
       "    <tr>\n",
       "      <th>31</th>\n",
       "      <td>http://www.wikidata.org/entity/Q5287</td>\n",
       "      <td>Japanese</td>\n",
       "    </tr>\n",
       "    <tr>\n",
       "      <th>157</th>\n",
       "      <td>http://www.wikidata.org/entity/Q908745</td>\n",
       "      <td>Japan Prize</td>\n",
       "    </tr>\n",
       "    <tr>\n",
       "      <th>50</th>\n",
       "      <td>http://www.wikidata.org/entity/Q6585753</td>\n",
       "      <td>Portal:Japan</td>\n",
       "    </tr>\n",
       "  </tbody>\n",
       "</table>\n",
       "</div>"
      ],
      "text/plain": [
       "                                          QID         Label\n",
       "168        http://www.wikidata.org/entity/Q17         Japan\n",
       "32   http://www.wikidata.org/entity/Q58893412      Japanese\n",
       "31       http://www.wikidata.org/entity/Q5287      Japanese\n",
       "157    http://www.wikidata.org/entity/Q908745   Japan Prize\n",
       "50    http://www.wikidata.org/entity/Q6585753  Portal:Japan"
      ]
     },
     "execution_count": 4,
     "metadata": {},
     "output_type": "execute_result"
    }
   ],
   "source": [
    "query_results = full_kg.query(\"\"\"\n",
    "select ?qid ?label\n",
    "where {\n",
    "    ?qid rdfs:label ?label.\n",
    "    filter( regex(?label, \"Japan\" ))\n",
    "}\n",
    "\"\"\")\n",
    "print(\"Matching results for Japan\")\n",
    "\n",
    "# There are many matching results for Japan, so we'll just sort by the length of the label\n",
    "# and show a few of them here\n",
    "results = [{'QID':res.qid, 'Label':res.label} for res in query_results]\n",
    "res = pd.json_normalize(results)\n",
    "res.sort_values(by=\"Label\", key=lambda x: x.str.len(), ascending=True, inplace=True)\n",
    "res.head(5)"
   ]
  },
  {
   "cell_type": "markdown",
   "metadata": {
    "pycharm": {
     "name": "#%% md\n"
    }
   },
   "source": [
    "We'll select WD:Q17 as our entity for Japan, and WD:Q727990 as our entity for the Megathrust Earthquake class.\n",
    "We'll make our new event as an entity with a \"instanceOf\" relation pointing to the Megathrust Earthquake class, and\n",
    "\"country\" relation to Japan."
   ]
  },
  {
   "cell_type": "code",
   "execution_count": 5,
   "metadata": {
    "pycharm": {
     "name": "#%%\n"
    }
   },
   "outputs": [],
   "source": [
    "p_instanceOf = WDT[\"P31\"] # instanceOf\n",
    "p_country = WDT[\"P17\"] # country\n",
    "ent_instanceOf1 = WD[\"Q727990\"] # Megathrust Earthquake\n",
    "ent_country1 = WD[\"Q17\"] # Japan\n",
    "\n",
    "# set up a dummy node for a new \"megathrust earthquake in Japan\" event\n",
    "anon_node1 = WD[\"ex1\"]\n",
    "japan_eq_pred_triples = [\n",
    "    (anon_node1, p_instanceOf, ent_instanceOf1),\n",
    "    (anon_node1, p_country, ent_country1)\n",
    "]\n",
    "\n",
    "# predict the instanceOf and country of the effect event\n",
    "predict_properties = [p_instanceOf, p_country]"
   ]
  },
  {
   "cell_type": "markdown",
   "metadata": {
    "pycharm": {
     "name": "#%% md\n"
    }
   },
   "source": [
    "Run the EvCBR prediction method. We can specify parameters such as how many hops in the KG to explore, how many\n",
    "cases to retrieve, and how many paths to sample.\n",
    "\n",
    "We produce two predictions here: one for our basic prediction method, and a second to produce \"refined\" predictions.\n",
    "Intuitively, our basic prediction method produces initial predictions about the properties of the new Effect event,\n",
    "while the refinement method aims to improve the predictions based on how well they can be used to \"predict\" the\n",
    "input properties used to produce them."
   ]
  },
  {
   "cell_type": "code",
   "execution_count": 6,
   "metadata": {
    "pycharm": {
     "name": "#%%\n"
    }
   },
   "outputs": [],
   "source": [
    "# many methods involve random choices, so the final results will most likely\n",
    "# vary between runs.\n",
    "\n",
    "# set up and run prediction\n",
    "model.set_forecast_triples(japan_eq_pred_triples)\n",
    "forward_res1 = model.forecast_effects(\n",
    "    triples_for_inductive_forecast=japan_eq_pred_triples,\n",
    "    dummy_target_uri=anon_node1,\n",
    "    forecast_relations=predict_properties,\n",
    "    max_hops=3, sample_case_count=4,\n",
    "    sample_case_cov_count=0, sample_path_count=180,\n",
    "    print_info=False,\n",
    "    precomputed_similar_cases=None,\n",
    "    dummy_connecting_relation_uri=WDT_HASEFFECT,\n",
    "    prevent_inverse_paths=False,\n",
    "    save_path_info=True\n",
    ")\n",
    "model.clean_forecast_triples()\n",
    "reverse_res1 = model.forecast_effect_reverse_predictions(\n",
    "                prop_forecasts=forward_res1.property_entity_support,\n",
    "                dummy_target_uri=anon_node1,\n",
    "                triples_for_inductive_forecast=japan_eq_pred_triples,\n",
    "                similar_case_effects=forward_res1.similar_cause_effect_pairs,\n",
    "                max_hops=3,sample_path_count=180,\n",
    "                prevent_inverse_paths=False\n",
    "            )"
   ]
  },
  {
   "cell_type": "markdown",
   "metadata": {
    "pycharm": {
     "name": "#%% md\n"
    }
   },
   "source": [
    "Here we show some visualizations of 4 cases from the KG that were used to make our prediction. Cases are selected\n",
    "based on factors such as the similarity of each property and the relative importance of properties.\n",
    "\n",
    "`P1542` indicates the `hasEffect` relation between events."
   ]
  },
  {
   "cell_type": "code",
   "execution_count": 7,
   "metadata": {
    "pycharm": {
     "name": "#%%\n"
    }
   },
   "outputs": [],
   "source": [
    "from visualizations.vis_cases import *\n",
    "supporting_cases1 = forward_res1.similar_cause_effect_pairs[:4]\n",
    "cg = new_collective_make_case_graph(cs=supporting_cases1, kg=model_kg, connecting_prop=WDT_HASEFFECT,\n",
    "                         cause_props=[p_instanceOf, p_country], effect_props=[p_instanceOf, p_country],\n",
    "                              workaround_country=ent_country1)\n",
    "\n",
    "# sig = setup_sigma_graph(cg)\n",
    "# sig\n",
    "# uncomment the two lines above this to run an interactive graph"
   ]
  },
  {
   "cell_type": "markdown",
   "metadata": {
    "pycharm": {
     "name": "#%% md\n"
    }
   },
   "source": [
    "Static images of the visualizations are shown in this notebook, but running\n",
    "the notebook will allow you to start up an interactive graph UI.\n",
    "![image showing a graph of some similar cases used to make predictions](../images/eq_cases.png)"
   ]
  },
  {
   "cell_type": "markdown",
   "metadata": {
    "pycharm": {
     "name": "#%% md\n"
    }
   },
   "source": [
    "The top predictions for the new Effect event's `country` and `instanceOf` properties using the basic prediction\n",
    "method are as follows:"
   ]
  },
  {
   "cell_type": "code",
   "execution_count": 8,
   "metadata": {
    "pycharm": {
     "name": "#%%\n"
    }
   },
   "outputs": [
    {
     "name": "stdout",
     "output_type": "stream",
     "text": [
      "Top predictions for the effect event's country relation\n"
     ]
    },
    {
     "data": {
      "text/html": [
       "<div>\n",
       "<style scoped>\n",
       "    .dataframe tbody tr th:only-of-type {\n",
       "        vertical-align: middle;\n",
       "    }\n",
       "\n",
       "    .dataframe tbody tr th {\n",
       "        vertical-align: top;\n",
       "    }\n",
       "\n",
       "    .dataframe thead th {\n",
       "        text-align: right;\n",
       "    }\n",
       "</style>\n",
       "<table border=\"1\" class=\"dataframe\">\n",
       "  <thead>\n",
       "    <tr style=\"text-align: right;\">\n",
       "      <th></th>\n",
       "      <th>QID</th>\n",
       "      <th>Label</th>\n",
       "    </tr>\n",
       "  </thead>\n",
       "  <tbody>\n",
       "    <tr>\n",
       "      <th>0</th>\n",
       "      <td>http://www.wikidata.org/entity/Q17</td>\n",
       "      <td>Japan</td>\n",
       "    </tr>\n",
       "    <tr>\n",
       "      <th>1</th>\n",
       "      <td>http://www.wikidata.org/entity/Q30</td>\n",
       "      <td>United States of America</td>\n",
       "    </tr>\n",
       "    <tr>\n",
       "      <th>2</th>\n",
       "      <td>http://www.wikidata.org/entity/Q970</td>\n",
       "      <td>Comoros</td>\n",
       "    </tr>\n",
       "    <tr>\n",
       "      <th>3</th>\n",
       "      <td>http://www.wikidata.org/entity/Q114</td>\n",
       "      <td>Kenya</td>\n",
       "    </tr>\n",
       "    <tr>\n",
       "      <th>4</th>\n",
       "      <td>http://www.wikidata.org/entity/Q252</td>\n",
       "      <td>Indonesia</td>\n",
       "    </tr>\n",
       "    <tr>\n",
       "      <th>5</th>\n",
       "      <td>http://www.wikidata.org/entity/Q805</td>\n",
       "      <td>Yemen</td>\n",
       "    </tr>\n",
       "    <tr>\n",
       "      <th>6</th>\n",
       "      <td>http://www.wikidata.org/entity/Q1045</td>\n",
       "      <td>Somalia</td>\n",
       "    </tr>\n",
       "  </tbody>\n",
       "</table>\n",
       "</div>"
      ],
      "text/plain": [
       "                                    QID                     Label\n",
       "0    http://www.wikidata.org/entity/Q17                     Japan\n",
       "1    http://www.wikidata.org/entity/Q30  United States of America\n",
       "2   http://www.wikidata.org/entity/Q970                   Comoros\n",
       "3   http://www.wikidata.org/entity/Q114                     Kenya\n",
       "4   http://www.wikidata.org/entity/Q252                 Indonesia\n",
       "5   http://www.wikidata.org/entity/Q805                     Yemen\n",
       "6  http://www.wikidata.org/entity/Q1045                   Somalia"
      ]
     },
     "execution_count": 8,
     "metadata": {},
     "output_type": "execute_result"
    }
   ],
   "source": [
    "print(\"Top predictions for the effect event's country relation\")\n",
    "country_predictions = [{'QID': ent, 'Label': full_kg.value(subject=ent, predicate=RDFS.label)}\n",
    "                       for ent in list(forward_res1.property_entity_support[p_country].keys())[:7]]\n",
    "df = pd.json_normalize(country_predictions)\n",
    "df.head(7)"
   ]
  },
  {
   "cell_type": "markdown",
   "metadata": {
    "pycharm": {
     "name": "#%% md\n"
    }
   },
   "source": [
    "A visualization of some of the prediction paths leading to the top prediction can be seen below."
   ]
  },
  {
   "cell_type": "code",
   "execution_count": 9,
   "metadata": {
    "pycharm": {
     "name": "#%%\n"
    }
   },
   "outputs": [],
   "source": [
    "top_pred = list(forward_res1.property_entity_support[p_country].keys())[0]\n",
    "top_pred_paths = forward_res1.property_prediction_paths[p_country][top_pred]\n",
    "# sig = visualize_prediction_path(model_kg, japan_eq_pred_triples, p_country, top_pred, top_pred_paths, pathcount=5)\n",
    "# sig"
   ]
  },
  {
   "cell_type": "markdown",
   "metadata": {
    "pycharm": {
     "name": "#%% md\n"
    }
   },
   "source": [
    "![some example paths leading to the prediction for the effect's country property](../images/eq_countrypred.png)"
   ]
  },
  {
   "cell_type": "markdown",
   "metadata": {
    "pycharm": {
     "name": "#%% md\n"
    }
   },
   "source": [
    "We can also see how the paths are present in some of the past cases. The following visualization shows how one of the\n",
    "prediction paths are present in the similar cases in the KG."
   ]
  },
  {
   "cell_type": "code",
   "execution_count": 10,
   "metadata": {
    "pycharm": {
     "name": "#%%\n"
    }
   },
   "outputs": [],
   "source": [
    "sorted_pathscores = sorted(top_pred_paths.items(), key=lambda x: x[1], reverse=True)\n",
    "top_paths = [path_det for (path_det, path_score) in sorted_pathscores[:3]]\n",
    "target_path = top_paths[0]\n",
    "\n",
    "# csig = show_paths_on_cases(cs=supporting_cases1, kg=model_kg, connecting_prop=WDT_HASEFFECT,\n",
    "#                          cause_props=[p_instanceOf, p_country], effect_props=[p_instanceOf, p_country],\n",
    "#                               workaround_country=ent_country1, target_prop=p_country, path=target_path)\n",
    "\n",
    "#csig"
   ]
  },
  {
   "cell_type": "markdown",
   "metadata": {
    "pycharm": {
     "name": "#%% md\n"
    }
   },
   "source": [
    "![examples showing where the prediction paths are present in the retrieved cases](../images/eq_countrypath_cases.png)"
   ]
  },
  {
   "cell_type": "code",
   "execution_count": 11,
   "metadata": {
    "pycharm": {
     "name": "#%%\n"
    }
   },
   "outputs": [
    {
     "name": "stdout",
     "output_type": "stream",
     "text": [
      "Top predictions for the effect event's instanceOf relation\n"
     ]
    },
    {
     "data": {
      "text/html": [
       "<div>\n",
       "<style scoped>\n",
       "    .dataframe tbody tr th:only-of-type {\n",
       "        vertical-align: middle;\n",
       "    }\n",
       "\n",
       "    .dataframe tbody tr th {\n",
       "        vertical-align: top;\n",
       "    }\n",
       "\n",
       "    .dataframe thead th {\n",
       "        text-align: right;\n",
       "    }\n",
       "</style>\n",
       "<table border=\"1\" class=\"dataframe\">\n",
       "  <thead>\n",
       "    <tr style=\"text-align: right;\">\n",
       "      <th></th>\n",
       "      <th>QID</th>\n",
       "      <th>Label</th>\n",
       "    </tr>\n",
       "  </thead>\n",
       "  <tbody>\n",
       "    <tr>\n",
       "      <th>0</th>\n",
       "      <td>http://www.wikidata.org/entity/Q7944</td>\n",
       "      <td>earthquake</td>\n",
       "    </tr>\n",
       "    <tr>\n",
       "      <th>1</th>\n",
       "      <td>http://www.wikidata.org/entity/Q727990</td>\n",
       "      <td>megathrust earthquake</td>\n",
       "    </tr>\n",
       "    <tr>\n",
       "      <th>2</th>\n",
       "      <td>http://www.wikidata.org/entity/Q11639848</td>\n",
       "      <td>multi-segment earthquake</td>\n",
       "    </tr>\n",
       "    <tr>\n",
       "      <th>3</th>\n",
       "      <td>http://www.wikidata.org/entity/Q3510594</td>\n",
       "      <td>earthquake in Japan</td>\n",
       "    </tr>\n",
       "    <tr>\n",
       "      <th>4</th>\n",
       "      <td>http://www.wikidata.org/entity/Q7312186</td>\n",
       "      <td>remotely triggered earthquakes</td>\n",
       "    </tr>\n",
       "    <tr>\n",
       "      <th>5</th>\n",
       "      <td>http://www.wikidata.org/entity/Q3541302</td>\n",
       "      <td>volcano tectonic earthquake</td>\n",
       "    </tr>\n",
       "    <tr>\n",
       "      <th>6</th>\n",
       "      <td>http://www.wikidata.org/entity/Q8070</td>\n",
       "      <td>tsunami</td>\n",
       "    </tr>\n",
       "  </tbody>\n",
       "</table>\n",
       "</div>"
      ],
      "text/plain": [
       "                                        QID                           Label\n",
       "0      http://www.wikidata.org/entity/Q7944                      earthquake\n",
       "1    http://www.wikidata.org/entity/Q727990           megathrust earthquake\n",
       "2  http://www.wikidata.org/entity/Q11639848        multi-segment earthquake\n",
       "3   http://www.wikidata.org/entity/Q3510594             earthquake in Japan\n",
       "4   http://www.wikidata.org/entity/Q7312186  remotely triggered earthquakes\n",
       "5   http://www.wikidata.org/entity/Q3541302     volcano tectonic earthquake\n",
       "6      http://www.wikidata.org/entity/Q8070                         tsunami"
      ]
     },
     "execution_count": 11,
     "metadata": {},
     "output_type": "execute_result"
    }
   ],
   "source": [
    "print(\"Top predictions for the effect event's instanceOf relation\")\n",
    "instanceOf_predictions = [{'QID': ent, 'Label': full_kg.value(subject=ent, predicate=RDFS.label)}\n",
    "                       for ent in list(forward_res1.property_entity_support[p_instanceOf].keys())[:7]]\n",
    "df = pd.json_normalize(instanceOf_predictions)\n",
    "df.head(7)"
   ]
  },
  {
   "cell_type": "markdown",
   "metadata": {
    "pycharm": {
     "name": "#%% md\n"
    }
   },
   "source": [
    "Similarly, a visualization of the prediction paths for the top instanceOf relation can be seen below."
   ]
  },
  {
   "cell_type": "code",
   "execution_count": 12,
   "metadata": {
    "pycharm": {
     "name": "#%%\n"
    }
   },
   "outputs": [],
   "source": [
    "top_pred = list(forward_res1.property_entity_support[p_instanceOf].keys())[0]\n",
    "top_pred_paths = forward_res1.property_prediction_paths[p_instanceOf][top_pred]\n",
    "# sig = visualize_prediction_path(model_kg, japan_eq_pred_triples, p_instanceOf, top_pred, top_pred_paths, pathcount=5)\n",
    "# sig"
   ]
  },
  {
   "cell_type": "markdown",
   "metadata": {
    "pycharm": {
     "name": "#%% md\n"
    }
   },
   "source": [
    "![example paths leading to the prediction for the effect's instanceOf property](../images/eq_instancepred.png)"
   ]
  },
  {
   "cell_type": "code",
   "execution_count": 13,
   "metadata": {
    "pycharm": {
     "name": "#%%\n"
    }
   },
   "outputs": [],
   "source": [
    "sorted_pathscores = sorted(top_pred_paths.items(), key=lambda x: x[1], reverse=True)\n",
    "top_paths = [path_det for (path_det, path_score) in sorted_pathscores[:3]]\n",
    "target_path = top_paths[0]\n",
    "\n",
    "# csig = show_paths_on_cases(cs=supporting_cases1, kg=model_kg, connecting_prop=WDT_HASEFFECT,\n",
    "#                          cause_props=[p_instanceOf, p_country], effect_props=[p_instanceOf, p_country],\n",
    "#                               workaround_country=ent_country1, target_prop=p_instanceOf, path=target_path)\n",
    "# csig"
   ]
  },
  {
   "cell_type": "markdown",
   "metadata": {
    "pycharm": {
     "name": "#%% md\n"
    }
   },
   "source": [
    "![example of where a prediction path is present in the retrieved cases](../images/eq_instancepath_cases.png)"
   ]
  },
  {
   "cell_type": "markdown",
   "metadata": {
    "pycharm": {
     "name": "#%% md\n"
    }
   },
   "source": [
    "The top predictions based on our refinement method are:"
   ]
  },
  {
   "cell_type": "code",
   "execution_count": 14,
   "metadata": {
    "pycharm": {
     "name": "#%%\n"
    }
   },
   "outputs": [
    {
     "name": "stdout",
     "output_type": "stream",
     "text": [
      "Refined predictions for the effect event's country relation\n"
     ]
    },
    {
     "data": {
      "text/html": [
       "<div>\n",
       "<style scoped>\n",
       "    .dataframe tbody tr th:only-of-type {\n",
       "        vertical-align: middle;\n",
       "    }\n",
       "\n",
       "    .dataframe tbody tr th {\n",
       "        vertical-align: top;\n",
       "    }\n",
       "\n",
       "    .dataframe thead th {\n",
       "        text-align: right;\n",
       "    }\n",
       "</style>\n",
       "<table border=\"1\" class=\"dataframe\">\n",
       "  <thead>\n",
       "    <tr style=\"text-align: right;\">\n",
       "      <th></th>\n",
       "      <th>QID</th>\n",
       "      <th>Label</th>\n",
       "    </tr>\n",
       "  </thead>\n",
       "  <tbody>\n",
       "    <tr>\n",
       "      <th>0</th>\n",
       "      <td>http://www.wikidata.org/entity/Q17</td>\n",
       "      <td>Japan</td>\n",
       "    </tr>\n",
       "    <tr>\n",
       "      <th>1</th>\n",
       "      <td>http://www.wikidata.org/entity/Q71707</td>\n",
       "      <td>Fukushima Prefecture</td>\n",
       "    </tr>\n",
       "    <tr>\n",
       "      <th>2</th>\n",
       "      <td>http://www.wikidata.org/entity/Q30</td>\n",
       "      <td>United States of America</td>\n",
       "    </tr>\n",
       "    <tr>\n",
       "      <th>3</th>\n",
       "      <td>http://www.wikidata.org/entity/Q16</td>\n",
       "      <td>Canada</td>\n",
       "    </tr>\n",
       "    <tr>\n",
       "      <th>4</th>\n",
       "      <td>http://www.wikidata.org/entity/Q865</td>\n",
       "      <td>Taiwan</td>\n",
       "    </tr>\n",
       "    <tr>\n",
       "      <th>5</th>\n",
       "      <td>http://www.wikidata.org/entity/Q183</td>\n",
       "      <td>Germany</td>\n",
       "    </tr>\n",
       "    <tr>\n",
       "      <th>6</th>\n",
       "      <td>http://www.wikidata.org/entity/Q1023949</td>\n",
       "      <td>Futaba</td>\n",
       "    </tr>\n",
       "  </tbody>\n",
       "</table>\n",
       "</div>"
      ],
      "text/plain": [
       "                                       QID                     Label\n",
       "0       http://www.wikidata.org/entity/Q17                     Japan\n",
       "1    http://www.wikidata.org/entity/Q71707      Fukushima Prefecture\n",
       "2       http://www.wikidata.org/entity/Q30  United States of America\n",
       "3       http://www.wikidata.org/entity/Q16                    Canada\n",
       "4      http://www.wikidata.org/entity/Q865                    Taiwan\n",
       "5      http://www.wikidata.org/entity/Q183                   Germany\n",
       "6  http://www.wikidata.org/entity/Q1023949                    Futaba"
      ]
     },
     "execution_count": 14,
     "metadata": {},
     "output_type": "execute_result"
    }
   ],
   "source": [
    "print(\"Refined predictions for the effect event's country relation\")\n",
    "country_predictions = [{'QID': ent, 'Label': full_kg.value(subject=ent, predicate=RDFS.label)}\n",
    "                       for (ent, support) in reverse_res1.property_prediction_support[p_country][:7]]\n",
    "df = pd.json_normalize(country_predictions)\n",
    "df.head(7)"
   ]
  },
  {
   "cell_type": "code",
   "execution_count": 15,
   "metadata": {
    "pycharm": {
     "name": "#%%\n"
    }
   },
   "outputs": [
    {
     "name": "stdout",
     "output_type": "stream",
     "text": [
      "Refined predictions for the effect event's instanceOf relation\n"
     ]
    },
    {
     "data": {
      "text/html": [
       "<div>\n",
       "<style scoped>\n",
       "    .dataframe tbody tr th:only-of-type {\n",
       "        vertical-align: middle;\n",
       "    }\n",
       "\n",
       "    .dataframe tbody tr th {\n",
       "        vertical-align: top;\n",
       "    }\n",
       "\n",
       "    .dataframe thead th {\n",
       "        text-align: right;\n",
       "    }\n",
       "</style>\n",
       "<table border=\"1\" class=\"dataframe\">\n",
       "  <thead>\n",
       "    <tr style=\"text-align: right;\">\n",
       "      <th></th>\n",
       "      <th>QID</th>\n",
       "      <th>Label</th>\n",
       "    </tr>\n",
       "  </thead>\n",
       "  <tbody>\n",
       "    <tr>\n",
       "      <th>0</th>\n",
       "      <td>http://www.wikidata.org/entity/Q7944</td>\n",
       "      <td>earthquake</td>\n",
       "    </tr>\n",
       "    <tr>\n",
       "      <th>1</th>\n",
       "      <td>http://www.wikidata.org/entity/Q494721</td>\n",
       "      <td>city of Japan</td>\n",
       "    </tr>\n",
       "    <tr>\n",
       "      <th>2</th>\n",
       "      <td>http://www.wikidata.org/entity/Q727990</td>\n",
       "      <td>megathrust earthquake</td>\n",
       "    </tr>\n",
       "    <tr>\n",
       "      <th>3</th>\n",
       "      <td>http://www.wikidata.org/entity/Q728937</td>\n",
       "      <td>railway line</td>\n",
       "    </tr>\n",
       "    <tr>\n",
       "      <th>4</th>\n",
       "      <td>http://www.wikidata.org/entity/Q18663566</td>\n",
       "      <td>None</td>\n",
       "    </tr>\n",
       "    <tr>\n",
       "      <th>5</th>\n",
       "      <td>http://www.wikidata.org/entity/Q11639848</td>\n",
       "      <td>multi-segment earthquake</td>\n",
       "    </tr>\n",
       "    <tr>\n",
       "      <th>6</th>\n",
       "      <td>http://www.wikidata.org/entity/Q7312186</td>\n",
       "      <td>remotely triggered earthquakes</td>\n",
       "    </tr>\n",
       "  </tbody>\n",
       "</table>\n",
       "</div>"
      ],
      "text/plain": [
       "                                        QID                           Label\n",
       "0      http://www.wikidata.org/entity/Q7944                      earthquake\n",
       "1    http://www.wikidata.org/entity/Q494721                   city of Japan\n",
       "2    http://www.wikidata.org/entity/Q727990           megathrust earthquake\n",
       "3    http://www.wikidata.org/entity/Q728937                    railway line\n",
       "4  http://www.wikidata.org/entity/Q18663566                            None\n",
       "5  http://www.wikidata.org/entity/Q11639848        multi-segment earthquake\n",
       "6   http://www.wikidata.org/entity/Q7312186  remotely triggered earthquakes"
      ]
     },
     "execution_count": 15,
     "metadata": {},
     "output_type": "execute_result"
    }
   ],
   "source": [
    "print(\"Refined predictions for the effect event's instanceOf relation\")\n",
    "instanceOf_predictions = [{'QID': ent, 'Label': full_kg.value(subject=ent, predicate=RDFS.label)}\n",
    "                       for (ent, support) in reverse_res1.property_prediction_support[p_instanceOf][:7]]\n",
    "df = pd.json_normalize(instanceOf_predictions)\n",
    "df.head(7)"
   ]
  },
  {
   "cell_type": "markdown",
   "metadata": {
    "pycharm": {
     "name": "#%% md\n"
    }
   },
   "source": [
    "We can see some a mixture of some good and bad predictions from both methods. In general the refined predictions\n",
    "appear to do a better job of predicting that an effect will occur in Japan, specific areas in Japan, or countries\n",
    "that are geographically/politically close to Japan.\n",
    "\n",
    "The refinement method sometimes leads to some less desirable predictions for the effect's instanceOf,\n",
    "such as classes that aren't types of events. Since several of the similar cases used to make predictions were\n",
    "events where a megathrust earthquake caused the occurrence of more earthquakes, we can see how many of our predictions\n",
    "in turn are different varieties of earthquakes."
   ]
  },
  {
   "cell_type": "markdown",
   "metadata": {
    "pycharm": {
     "name": "#%% md\n"
    }
   },
   "source": [
    "Next, we'll look at an example for predicting the effects of an ongoing event, specifically the\n",
    "recent Protests in Iran.\n",
    "\n",
    "We once again will perform predictions using some minimal input properties."
   ]
  },
  {
   "cell_type": "code",
   "execution_count": 16,
   "metadata": {
    "pycharm": {
     "name": "#%%\n"
    }
   },
   "outputs": [
    {
     "name": "stdout",
     "output_type": "stream",
     "text": [
      "Matching results for Protest\n"
     ]
    },
    {
     "data": {
      "text/html": [
       "<div>\n",
       "<style scoped>\n",
       "    .dataframe tbody tr th:only-of-type {\n",
       "        vertical-align: middle;\n",
       "    }\n",
       "\n",
       "    .dataframe tbody tr th {\n",
       "        vertical-align: top;\n",
       "    }\n",
       "\n",
       "    .dataframe thead th {\n",
       "        text-align: right;\n",
       "    }\n",
       "</style>\n",
       "<table border=\"1\" class=\"dataframe\">\n",
       "  <thead>\n",
       "    <tr style=\"text-align: right;\">\n",
       "      <th></th>\n",
       "      <th>QID</th>\n",
       "      <th>Label</th>\n",
       "    </tr>\n",
       "  </thead>\n",
       "  <tbody>\n",
       "    <tr>\n",
       "      <th>46</th>\n",
       "      <td>http://www.wikidata.org/entity/Q273120</td>\n",
       "      <td>protest</td>\n",
       "    </tr>\n",
       "    <tr>\n",
       "      <th>26</th>\n",
       "      <td>http://www.wikidata.org/entity/Q829147</td>\n",
       "      <td>protest song</td>\n",
       "    </tr>\n",
       "    <tr>\n",
       "      <th>4</th>\n",
       "      <td>http://www.wikidata.org/entity/Q15631336</td>\n",
       "      <td>protest march</td>\n",
       "    </tr>\n",
       "    <tr>\n",
       "      <th>14</th>\n",
       "      <td>http://www.wikidata.org/entity/Q111448505</td>\n",
       "      <td>type of protest</td>\n",
       "    </tr>\n",
       "    <tr>\n",
       "      <th>39</th>\n",
       "      <td>http://www.wikidata.org/entity/Q7623053</td>\n",
       "      <td>street protester</td>\n",
       "    </tr>\n",
       "  </tbody>\n",
       "</table>\n",
       "</div>"
      ],
      "text/plain": [
       "                                          QID             Label\n",
       "46     http://www.wikidata.org/entity/Q273120           protest\n",
       "26     http://www.wikidata.org/entity/Q829147      protest song\n",
       "4    http://www.wikidata.org/entity/Q15631336     protest march\n",
       "14  http://www.wikidata.org/entity/Q111448505   type of protest\n",
       "39    http://www.wikidata.org/entity/Q7623053  street protester"
      ]
     },
     "execution_count": 16,
     "metadata": {},
     "output_type": "execute_result"
    }
   ],
   "source": [
    "query_results = full_kg.query(\"\"\"\n",
    "select ?qid ?label\n",
    "where {\n",
    "    ?qid rdfs:label ?label.\n",
    "    filter( regex(?label, \"protest\" ))\n",
    "}\n",
    "\"\"\")\n",
    "print(\"Matching results for Protest\")\n",
    "\n",
    "results = [{'QID':res.qid, 'Label':res.label} for res in query_results]\n",
    "res = pd.json_normalize(results)\n",
    "res.sort_values(by=\"Label\", key=lambda x: x.str.len(), ascending=True, inplace=True)\n",
    "res.head(5)"
   ]
  },
  {
   "cell_type": "code",
   "execution_count": 17,
   "metadata": {
    "pycharm": {
     "name": "#%%\n"
    }
   },
   "outputs": [
    {
     "name": "stdout",
     "output_type": "stream",
     "text": [
      "Matching results for Iran\n"
     ]
    },
    {
     "data": {
      "text/html": [
       "<div>\n",
       "<style scoped>\n",
       "    .dataframe tbody tr th:only-of-type {\n",
       "        vertical-align: middle;\n",
       "    }\n",
       "\n",
       "    .dataframe tbody tr th {\n",
       "        vertical-align: top;\n",
       "    }\n",
       "\n",
       "    .dataframe thead th {\n",
       "        text-align: right;\n",
       "    }\n",
       "</style>\n",
       "<table border=\"1\" class=\"dataframe\">\n",
       "  <thead>\n",
       "    <tr style=\"text-align: right;\">\n",
       "      <th></th>\n",
       "      <th>QID</th>\n",
       "      <th>Label</th>\n",
       "    </tr>\n",
       "  </thead>\n",
       "  <tbody>\n",
       "    <tr>\n",
       "      <th>0</th>\n",
       "      <td>http://www.wikidata.org/entity/Q794</td>\n",
       "      <td>Iran</td>\n",
       "    </tr>\n",
       "    <tr>\n",
       "      <th>1</th>\n",
       "      <td>http://www.wikidata.org/entity/Q63214936</td>\n",
       "      <td>Iranun</td>\n",
       "    </tr>\n",
       "    <tr>\n",
       "      <th>2</th>\n",
       "      <td>http://www.wikidata.org/entity/Q3409301</td>\n",
       "      <td>Irantxe</td>\n",
       "    </tr>\n",
       "    <tr>\n",
       "      <th>3</th>\n",
       "      <td>http://www.wikidata.org/entity/Q63158027</td>\n",
       "      <td>Qajar Iran</td>\n",
       "    </tr>\n",
       "    <tr>\n",
       "      <th>4</th>\n",
       "      <td>http://www.wikidata.org/entity/Q107258515</td>\n",
       "      <td>Pahlavi Iran</td>\n",
       "    </tr>\n",
       "  </tbody>\n",
       "</table>\n",
       "</div>"
      ],
      "text/plain": [
       "                                         QID         Label\n",
       "0        http://www.wikidata.org/entity/Q794          Iran\n",
       "1   http://www.wikidata.org/entity/Q63214936        Iranun\n",
       "2    http://www.wikidata.org/entity/Q3409301       Irantxe\n",
       "3   http://www.wikidata.org/entity/Q63158027    Qajar Iran\n",
       "4  http://www.wikidata.org/entity/Q107258515  Pahlavi Iran"
      ]
     },
     "execution_count": 17,
     "metadata": {},
     "output_type": "execute_result"
    }
   ],
   "source": [
    "query_results = full_kg.query(\"\"\"\n",
    "select ?qid ?label\n",
    "where {\n",
    "    ?qid rdfs:label ?label.\n",
    "    filter( regex(?label, \"Iran\" ))\n",
    "}\n",
    "order by strlen(str(?label))\n",
    "\"\"\")\n",
    "# Omit additional results\n",
    "print(\"Matching results for Iran\")\n",
    "\n",
    "results = [{'QID':res.qid, 'Label':res.label} for res in query_results]\n",
    "res = pd.json_normalize(results)\n",
    "res.sort_values(by=\"Label\", key=lambda x: x.str.len(), ascending=True, inplace=True)\n",
    "res.head(5)"
   ]
  },
  {
   "cell_type": "markdown",
   "metadata": {},
   "source": [
    "We'll select WD:Q794 as our entity for Iran, and WD:Q273120 as our entity for the protest class."
   ]
  },
  {
   "cell_type": "code",
   "execution_count": 32,
   "metadata": {
    "pycharm": {
     "name": "#%%\n"
    }
   },
   "outputs": [],
   "source": [
    "# PROTEST in IRAN example\n",
    "\n",
    "p_instanceOf = WDT[\"P31\"] # instanceOf\n",
    "p_country = WDT[\"P17\"] # country\n",
    "ent_instanceOf2 = WD[\"Q273120\"] # Protest\n",
    "ent_country2 = WD[\"Q794\"] # Iran\n",
    "\n",
    "# set up a dummy node for a new \"protest in Iran\" event\n",
    "anon_node2 = WD[\"ex12\"]\n",
    "iran_protest_pred_triples = [\n",
    "    (anon_node2, p_instanceOf, ent_instanceOf2),\n",
    "    (anon_node2, p_country, ent_country2)\n",
    "]\n",
    "\n",
    "# predict the instanceOf and country of the effect event\n",
    "predict_properties = [p_instanceOf, p_country]"
   ]
  },
  {
   "cell_type": "code",
   "execution_count": 19,
   "metadata": {
    "pycharm": {
     "name": "#%%\n"
    }
   },
   "outputs": [],
   "source": [
    "# set up and run prediction\n",
    "model.set_forecast_triples(iran_protest_pred_triples)\n",
    "forward_res2 = model.forecast_effects(\n",
    "    triples_for_inductive_forecast=iran_protest_pred_triples,\n",
    "    dummy_target_uri=anon_node2,\n",
    "    forecast_relations=predict_properties,\n",
    "    max_hops=3, sample_case_count=5,\n",
    "    sample_case_cov_count=2, sample_path_count=180,\n",
    "    print_info=False,\n",
    "    precomputed_similar_cases=None,\n",
    "    dummy_connecting_relation_uri=WDT_HASEFFECT,\n",
    "    prevent_inverse_paths=False,\n",
    "    save_path_info=True\n",
    ")\n",
    "model.clean_forecast_triples()\n",
    "reverse_res2 = model.forecast_effect_reverse_predictions(\n",
    "                prop_forecasts=forward_res2.property_entity_support,\n",
    "                dummy_target_uri=anon_node2,\n",
    "                triples_for_inductive_forecast=iran_protest_pred_triples,\n",
    "                similar_case_effects=forward_res2.similar_cause_effect_pairs,\n",
    "                max_hops=3,sample_path_count=180,\n",
    "                prevent_inverse_paths=False\n",
    "            )"
   ]
  },
  {
   "cell_type": "markdown",
   "metadata": {
    "pycharm": {
     "name": "#%% md\n"
    }
   },
   "source": [
    "We once again visualize the cases retrieved to make our prediction. Recall that `P1542` is the causal relation\n",
    "`hasEffect` in our dataset."
   ]
  },
  {
   "cell_type": "code",
   "execution_count": 20,
   "metadata": {
    "pycharm": {
     "name": "#%%\n"
    }
   },
   "outputs": [],
   "source": [
    "from visualizations.vis_cases import *\n",
    "supporting_cases2 = forward_res2.similar_cause_effect_pairs[:4]\n",
    "cg = new_collective_make_case_graph(cs=supporting_cases2, kg=model_kg, connecting_prop=WDT_HASEFFECT,\n",
    "                         cause_props=[p_instanceOf, p_country], effect_props=[p_instanceOf, p_country],\n",
    "                              workaround_country=ent_country2)\n",
    "# sig = setup_sigma_graph(cg)\n",
    "# sig"
   ]
  },
  {
   "cell_type": "markdown",
   "metadata": {
    "pycharm": {
     "name": "#%% md\n"
    }
   },
   "source": [
    "![example cases retrieved to make predictions for the iran protest](../images/ip_cases.png)"
   ]
  },
  {
   "cell_type": "markdown",
   "metadata": {
    "pycharm": {
     "name": "#%% md\n"
    }
   },
   "source": [
    "Several example cases drawn from the KG appear to be very relevant to our new event, such as the\n",
    "Bahraini protests, Chilean protests, and Iranian Revolution. The Bahraini protests appeared to be the most similar\n",
    "to our new event, given that it had an exact match to the type of cause event and because Bahrain is more similar to\n",
    "Iran than Chile.\n",
    "\n",
    "We also see an example of a somewhat less desirable case, which is largely an artifact of how Wikidata is\n",
    "currently populated. The COVID-19 pandemic, and a Cuban protest caused by the pandemic, are listed among the\n",
    "similar cases used in this example. Wikidata's entry for COVID-19 lists over 100 countries which were affected, which\n",
    "leads to this event having a match for the country Iran with our new Cause event. Arguably, the pandemic and its effects\n",
    "may be relevant to considering what the effects of a new event in Iran are, but the breadth of this particular event is\n",
    "not ideal.\n",
    "\n",
    "This example demonstrates how (1) some peculiarities in the underlying KG can lead to odd choices of\n",
    "cases that are retrieved, and (2) the availability of relevant events in the KG can limit how good the\n",
    "\"best\" cases are."
   ]
  },
  {
   "cell_type": "markdown",
   "metadata": {
    "pycharm": {
     "name": "#%% md\n"
    }
   },
   "source": [
    "\n",
    "The top predictions for the new Effect event's `country` and `instanceOf` properties using the basic prediction\n",
    "method are as follows:"
   ]
  },
  {
   "cell_type": "code",
   "execution_count": 21,
   "metadata": {
    "pycharm": {
     "name": "#%%\n"
    }
   },
   "outputs": [
    {
     "name": "stdout",
     "output_type": "stream",
     "text": [
      "Top predictions for the effect event's country relation\n"
     ]
    },
    {
     "data": {
      "text/html": [
       "<div>\n",
       "<style scoped>\n",
       "    .dataframe tbody tr th:only-of-type {\n",
       "        vertical-align: middle;\n",
       "    }\n",
       "\n",
       "    .dataframe tbody tr th {\n",
       "        vertical-align: top;\n",
       "    }\n",
       "\n",
       "    .dataframe thead th {\n",
       "        text-align: right;\n",
       "    }\n",
       "</style>\n",
       "<table border=\"1\" class=\"dataframe\">\n",
       "  <thead>\n",
       "    <tr style=\"text-align: right;\">\n",
       "      <th></th>\n",
       "      <th>QID</th>\n",
       "      <th>Label</th>\n",
       "    </tr>\n",
       "  </thead>\n",
       "  <tbody>\n",
       "    <tr>\n",
       "      <th>0</th>\n",
       "      <td>http://www.wikidata.org/entity/Q794</td>\n",
       "      <td>Iran</td>\n",
       "    </tr>\n",
       "    <tr>\n",
       "      <th>1</th>\n",
       "      <td>http://www.wikidata.org/entity/Q6178890</td>\n",
       "      <td>Khorasan Province</td>\n",
       "    </tr>\n",
       "    <tr>\n",
       "      <th>2</th>\n",
       "      <td>http://www.wikidata.org/entity/Q1986139</td>\n",
       "      <td>Parthian Empire</td>\n",
       "    </tr>\n",
       "    <tr>\n",
       "      <th>3</th>\n",
       "      <td>http://www.wikidata.org/entity/Q83891</td>\n",
       "      <td>Sasanian Empire</td>\n",
       "    </tr>\n",
       "    <tr>\n",
       "      <th>4</th>\n",
       "      <td>http://www.wikidata.org/entity/Q274536</td>\n",
       "      <td>Iranian Azerbaijan</td>\n",
       "    </tr>\n",
       "    <tr>\n",
       "      <th>5</th>\n",
       "      <td>http://www.wikidata.org/entity/Q159</td>\n",
       "      <td>Russia</td>\n",
       "    </tr>\n",
       "    <tr>\n",
       "      <th>6</th>\n",
       "      <td>http://www.wikidata.org/entity/Q227</td>\n",
       "      <td>Azerbaijan</td>\n",
       "    </tr>\n",
       "  </tbody>\n",
       "</table>\n",
       "</div>"
      ],
      "text/plain": [
       "                                       QID               Label\n",
       "0      http://www.wikidata.org/entity/Q794                Iran\n",
       "1  http://www.wikidata.org/entity/Q6178890   Khorasan Province\n",
       "2  http://www.wikidata.org/entity/Q1986139     Parthian Empire\n",
       "3    http://www.wikidata.org/entity/Q83891     Sasanian Empire\n",
       "4   http://www.wikidata.org/entity/Q274536  Iranian Azerbaijan\n",
       "5      http://www.wikidata.org/entity/Q159              Russia\n",
       "6      http://www.wikidata.org/entity/Q227          Azerbaijan"
      ]
     },
     "execution_count": 21,
     "metadata": {},
     "output_type": "execute_result"
    }
   ],
   "source": [
    "print(\"Top predictions for the effect event's country relation\")\n",
    "country_predictions = [{'QID': ent, 'Label': full_kg.value(subject=ent, predicate=RDFS.label)}\n",
    "                       for ent in list(forward_res2.property_entity_support[p_country].keys())[:7]]\n",
    "df = pd.json_normalize(country_predictions)\n",
    "df.head(7)"
   ]
  },
  {
   "cell_type": "code",
   "execution_count": 22,
   "metadata": {
    "pycharm": {
     "name": "#%%\n"
    }
   },
   "outputs": [
    {
     "name": "stdout",
     "output_type": "stream",
     "text": [
      "Top predictions for the effect event's instanceOf relation\n"
     ]
    },
    {
     "data": {
      "text/html": [
       "<div>\n",
       "<style scoped>\n",
       "    .dataframe tbody tr th:only-of-type {\n",
       "        vertical-align: middle;\n",
       "    }\n",
       "\n",
       "    .dataframe tbody tr th {\n",
       "        vertical-align: top;\n",
       "    }\n",
       "\n",
       "    .dataframe thead th {\n",
       "        text-align: right;\n",
       "    }\n",
       "</style>\n",
       "<table border=\"1\" class=\"dataframe\">\n",
       "  <thead>\n",
       "    <tr style=\"text-align: right;\">\n",
       "      <th></th>\n",
       "      <th>QID</th>\n",
       "      <th>Label</th>\n",
       "    </tr>\n",
       "  </thead>\n",
       "  <tbody>\n",
       "    <tr>\n",
       "      <th>0</th>\n",
       "      <td>http://www.wikidata.org/entity/Q273120</td>\n",
       "      <td>protest</td>\n",
       "    </tr>\n",
       "    <tr>\n",
       "      <th>1</th>\n",
       "      <td>http://www.wikidata.org/entity/Q1996993</td>\n",
       "      <td>police brutality</td>\n",
       "    </tr>\n",
       "    <tr>\n",
       "      <th>2</th>\n",
       "      <td>http://www.wikidata.org/entity/Q20730691</td>\n",
       "      <td>death in police custody</td>\n",
       "    </tr>\n",
       "    <tr>\n",
       "      <th>3</th>\n",
       "      <td>http://www.wikidata.org/entity/Q3199915</td>\n",
       "      <td>massacre</td>\n",
       "    </tr>\n",
       "    <tr>\n",
       "      <th>4</th>\n",
       "      <td>http://www.wikidata.org/entity/Q124734</td>\n",
       "      <td>rebellion</td>\n",
       "    </tr>\n",
       "    <tr>\n",
       "      <th>5</th>\n",
       "      <td>http://www.wikidata.org/entity/Q175331</td>\n",
       "      <td>demonstration</td>\n",
       "    </tr>\n",
       "    <tr>\n",
       "      <th>6</th>\n",
       "      <td>http://www.wikidata.org/entity/Q686984</td>\n",
       "      <td>civil disorder</td>\n",
       "    </tr>\n",
       "  </tbody>\n",
       "</table>\n",
       "</div>"
      ],
      "text/plain": [
       "                                        QID                    Label\n",
       "0    http://www.wikidata.org/entity/Q273120                  protest\n",
       "1   http://www.wikidata.org/entity/Q1996993         police brutality\n",
       "2  http://www.wikidata.org/entity/Q20730691  death in police custody\n",
       "3   http://www.wikidata.org/entity/Q3199915                 massacre\n",
       "4    http://www.wikidata.org/entity/Q124734                rebellion\n",
       "5    http://www.wikidata.org/entity/Q175331            demonstration\n",
       "6    http://www.wikidata.org/entity/Q686984           civil disorder"
      ]
     },
     "execution_count": 22,
     "metadata": {},
     "output_type": "execute_result"
    }
   ],
   "source": [
    "print(\"Top predictions for the effect event's instanceOf relation\")\n",
    "instanceOf_predictions = [{'QID': ent, 'Label': full_kg.value(subject=ent, predicate=RDFS.label)}\n",
    "                       for ent in list(forward_res2.property_entity_support[p_instanceOf].keys())[:7]]\n",
    "df = pd.json_normalize(instanceOf_predictions)\n",
    "df.head(7)"
   ]
  },
  {
   "cell_type": "markdown",
   "metadata": {},
   "source": [
    "The top predictions based on our refinement method are:"
   ]
  },
  {
   "cell_type": "code",
   "execution_count": 23,
   "metadata": {
    "pycharm": {
     "name": "#%%\n"
    }
   },
   "outputs": [
    {
     "name": "stdout",
     "output_type": "stream",
     "text": [
      "Refined predictions for the effect event's country relation\n"
     ]
    },
    {
     "data": {
      "text/html": [
       "<div>\n",
       "<style scoped>\n",
       "    .dataframe tbody tr th:only-of-type {\n",
       "        vertical-align: middle;\n",
       "    }\n",
       "\n",
       "    .dataframe tbody tr th {\n",
       "        vertical-align: top;\n",
       "    }\n",
       "\n",
       "    .dataframe thead th {\n",
       "        text-align: right;\n",
       "    }\n",
       "</style>\n",
       "<table border=\"1\" class=\"dataframe\">\n",
       "  <thead>\n",
       "    <tr style=\"text-align: right;\">\n",
       "      <th></th>\n",
       "      <th>QID</th>\n",
       "      <th>Label</th>\n",
       "    </tr>\n",
       "  </thead>\n",
       "  <tbody>\n",
       "    <tr>\n",
       "      <th>0</th>\n",
       "      <td>http://www.wikidata.org/entity/Q794</td>\n",
       "      <td>Iran</td>\n",
       "    </tr>\n",
       "    <tr>\n",
       "      <th>1</th>\n",
       "      <td>http://www.wikidata.org/entity/Q796</td>\n",
       "      <td>Iraq</td>\n",
       "    </tr>\n",
       "    <tr>\n",
       "      <th>2</th>\n",
       "      <td>http://www.wikidata.org/entity/Q227</td>\n",
       "      <td>Azerbaijan</td>\n",
       "    </tr>\n",
       "    <tr>\n",
       "      <th>3</th>\n",
       "      <td>http://www.wikidata.org/entity/Q159</td>\n",
       "      <td>Russia</td>\n",
       "    </tr>\n",
       "    <tr>\n",
       "      <th>4</th>\n",
       "      <td>http://www.wikidata.org/entity/Q232</td>\n",
       "      <td>Kazakhstan</td>\n",
       "    </tr>\n",
       "    <tr>\n",
       "      <th>5</th>\n",
       "      <td>http://www.wikidata.org/entity/Q851</td>\n",
       "      <td>Saudi Arabia</td>\n",
       "    </tr>\n",
       "    <tr>\n",
       "      <th>6</th>\n",
       "      <td>http://www.wikidata.org/entity/Q274536</td>\n",
       "      <td>Iranian Azerbaijan</td>\n",
       "    </tr>\n",
       "  </tbody>\n",
       "</table>\n",
       "</div>"
      ],
      "text/plain": [
       "                                      QID               Label\n",
       "0     http://www.wikidata.org/entity/Q794                Iran\n",
       "1     http://www.wikidata.org/entity/Q796                Iraq\n",
       "2     http://www.wikidata.org/entity/Q227          Azerbaijan\n",
       "3     http://www.wikidata.org/entity/Q159              Russia\n",
       "4     http://www.wikidata.org/entity/Q232          Kazakhstan\n",
       "5     http://www.wikidata.org/entity/Q851        Saudi Arabia\n",
       "6  http://www.wikidata.org/entity/Q274536  Iranian Azerbaijan"
      ]
     },
     "execution_count": 23,
     "metadata": {},
     "output_type": "execute_result"
    }
   ],
   "source": [
    "print(\"Refined predictions for the effect event's country relation\")\n",
    "country_predictions = [{'QID': ent, 'Label': full_kg.value(subject=ent, predicate=RDFS.label)}\n",
    "                       for (ent, support) in reverse_res2.property_prediction_support[p_country][:7]]\n",
    "df = pd.json_normalize(country_predictions)\n",
    "df.head(7)"
   ]
  },
  {
   "cell_type": "code",
   "execution_count": 24,
   "metadata": {
    "pycharm": {
     "name": "#%%\n"
    }
   },
   "outputs": [
    {
     "name": "stdout",
     "output_type": "stream",
     "text": [
      "Refined predictions for the effect event's instanceOf relation\n"
     ]
    },
    {
     "data": {
      "text/html": [
       "<div>\n",
       "<style scoped>\n",
       "    .dataframe tbody tr th:only-of-type {\n",
       "        vertical-align: middle;\n",
       "    }\n",
       "\n",
       "    .dataframe tbody tr th {\n",
       "        vertical-align: top;\n",
       "    }\n",
       "\n",
       "    .dataframe thead th {\n",
       "        text-align: right;\n",
       "    }\n",
       "</style>\n",
       "<table border=\"1\" class=\"dataframe\">\n",
       "  <thead>\n",
       "    <tr style=\"text-align: right;\">\n",
       "      <th></th>\n",
       "      <th>QID</th>\n",
       "      <th>Label</th>\n",
       "    </tr>\n",
       "  </thead>\n",
       "  <tbody>\n",
       "    <tr>\n",
       "      <th>0</th>\n",
       "      <td>http://www.wikidata.org/entity/Q273120</td>\n",
       "      <td>protest</td>\n",
       "    </tr>\n",
       "    <tr>\n",
       "      <th>1</th>\n",
       "      <td>http://www.wikidata.org/entity/Q175331</td>\n",
       "      <td>demonstration</td>\n",
       "    </tr>\n",
       "    <tr>\n",
       "      <th>2</th>\n",
       "      <td>http://www.wikidata.org/entity/Q686984</td>\n",
       "      <td>civil disorder</td>\n",
       "    </tr>\n",
       "    <tr>\n",
       "      <th>3</th>\n",
       "      <td>http://www.wikidata.org/entity/Q7272924</td>\n",
       "      <td>Quran desecration</td>\n",
       "    </tr>\n",
       "    <tr>\n",
       "      <th>4</th>\n",
       "      <td>http://www.wikidata.org/entity/Q1562095</td>\n",
       "      <td>human chain</td>\n",
       "    </tr>\n",
       "    <tr>\n",
       "      <th>5</th>\n",
       "      <td>http://www.wikidata.org/entity/Q124734</td>\n",
       "      <td>rebellion</td>\n",
       "    </tr>\n",
       "    <tr>\n",
       "      <th>6</th>\n",
       "      <td>http://www.wikidata.org/entity/Q1996993</td>\n",
       "      <td>police brutality</td>\n",
       "    </tr>\n",
       "  </tbody>\n",
       "</table>\n",
       "</div>"
      ],
      "text/plain": [
       "                                       QID              Label\n",
       "0   http://www.wikidata.org/entity/Q273120            protest\n",
       "1   http://www.wikidata.org/entity/Q175331      demonstration\n",
       "2   http://www.wikidata.org/entity/Q686984     civil disorder\n",
       "3  http://www.wikidata.org/entity/Q7272924  Quran desecration\n",
       "4  http://www.wikidata.org/entity/Q1562095        human chain\n",
       "5   http://www.wikidata.org/entity/Q124734          rebellion\n",
       "6  http://www.wikidata.org/entity/Q1996993   police brutality"
      ]
     },
     "execution_count": 24,
     "metadata": {},
     "output_type": "execute_result"
    }
   ],
   "source": [
    "print(\"Refined predictions for the effect event's instanceOf relation\")\n",
    "instanceOf_predictions = [{'QID': ent, 'Label': full_kg.value(subject=ent, predicate=RDFS.label)}\n",
    "                       for (ent, support) in reverse_res2.property_prediction_support[p_instanceOf][:7]]\n",
    "df = pd.json_normalize(instanceOf_predictions)\n",
    "df.head(7)"
   ]
  },
  {
   "cell_type": "markdown",
   "metadata": {
    "pycharm": {
     "name": "#%% md\n"
    }
   },
   "source": [
    "This time our refinement method seems to produce more convincing improvements to the predictions. In particular,\n",
    "the predictions for the country using the basic prediction lead to some questionable results, such as\n",
    "old empires, while the refined predictions list relevant countries like Iran, Iraq, and Azerbaijan.\n",
    "\n",
    "The refinement for the instanceOf of the effect are slightly harder to judge, with both methods producing\n",
    "some reasonable options such as how this event might lead to further protests, demonstrations, rebellion,\n",
    "and police brutality."
   ]
  },
  {
   "cell_type": "markdown",
   "metadata": {},
   "source": [
    "Some visualizations of the prediction paths for these predictions can be seen below.\n",
    "Again, static images are shown below, but running the notebook will allow an interactive\n",
    "UI to be present."
   ]
  },
  {
   "cell_type": "code",
   "execution_count": 41,
   "metadata": {
    "pycharm": {
     "name": "#%%\n"
    }
   },
   "outputs": [
    {
     "name": "stdout",
     "output_type": "stream",
     "text": [
      "Collecting entity labels from Wikidata\n",
      "Collecting property labels from Wikidata\n"
     ]
    },
    {
     "data": {
      "application/vnd.jupyter.widget-view+json": {
       "model_id": "e0d9b51ac96541d9bb2dea3cc25034c0",
       "version_major": 2,
       "version_minor": 0
      },
      "text/plain": [
       "Sigma(nx.DiGraph with 6 nodes and 6 edges)"
      ]
     },
     "execution_count": 41,
     "metadata": {},
     "output_type": "execute_result"
    }
   ],
   "source": [
    "top_pred = list(reverse_res2.property_prediction_support[p_instanceOf])[0][0]\n",
    "top_pred_paths = forward_res2.property_prediction_paths[p_instanceOf][top_pred]\n",
    "# sig = visualize_prediction_path(model_kg, iran_protest_pred_triples, p_instanceOf, top_pred, top_pred_paths, pathcount=5)\n",
    "# sig"
   ]
  },
  {
   "cell_type": "markdown",
   "source": [
    "![](../images/ip1.png)"
   ],
   "metadata": {
    "collapsed": false,
    "pycharm": {
     "name": "#%% md\n"
    }
   }
  },
  {
   "cell_type": "code",
   "execution_count": 43,
   "metadata": {
    "pycharm": {
     "name": "#%%\n"
    }
   },
   "outputs": [
    {
     "name": "stdout",
     "output_type": "stream",
     "text": [
      "Collecting entity labels from Wikidata\n",
      "Collecting property labels from Wikidata\n"
     ]
    },
    {
     "data": {
      "application/vnd.jupyter.widget-view+json": {
       "model_id": "388c7d9d6f09482b90f69e5f846ffb9f",
       "version_major": 2,
       "version_minor": 0
      },
      "text/plain": [
       "Sigma(nx.DiGraph with 6 nodes and 6 edges)"
      ]
     },
     "execution_count": 43,
     "metadata": {},
     "output_type": "execute_result"
    }
   ],
   "source": [
    "top_pred = list(reverse_res2.property_prediction_support[p_instanceOf])[1][0]\n",
    "top_pred_paths = forward_res2.property_prediction_paths[p_instanceOf][top_pred]\n",
    "# sig = visualize_prediction_path(model_kg, iran_protest_pred_triples, p_instanceOf, top_pred, top_pred_paths, pathcount=5)\n",
    "# sig"
   ]
  },
  {
   "cell_type": "markdown",
   "source": [
    "![](../images/ip2.png)"
   ],
   "metadata": {
    "collapsed": false
   }
  },
  {
   "cell_type": "code",
   "execution_count": 44,
   "metadata": {
    "pycharm": {
     "name": "#%%\n"
    }
   },
   "outputs": [
    {
     "name": "stdout",
     "output_type": "stream",
     "text": [
      "Collecting entity labels from Wikidata\n",
      "Collecting property labels from Wikidata\n"
     ]
    },
    {
     "data": {
      "application/vnd.jupyter.widget-view+json": {
       "model_id": "883228068f5b4249bfde6f147128f882",
       "version_major": 2,
       "version_minor": 0
      },
      "text/plain": [
       "Sigma(nx.DiGraph with 6 nodes and 6 edges)"
      ]
     },
     "execution_count": 44,
     "metadata": {},
     "output_type": "execute_result"
    }
   ],
   "source": [
    "top_pred = list(reverse_res2.property_prediction_support[p_instanceOf])[2][0]\n",
    "top_pred_paths = forward_res2.property_prediction_paths[p_instanceOf][top_pred]\n",
    "# sig = visualize_prediction_path(model_kg, iran_protest_pred_triples, p_instanceOf, top_pred, top_pred_paths, pathcount=5)\n",
    "# sig"
   ]
  },
  {
   "cell_type": "markdown",
   "source": [
    "![](../images/ip3.png)"
   ],
   "metadata": {
    "collapsed": false
   }
  },
  {
   "cell_type": "code",
   "execution_count": 45,
   "metadata": {
    "pycharm": {
     "name": "#%%\n"
    }
   },
   "outputs": [
    {
     "name": "stdout",
     "output_type": "stream",
     "text": [
      "Collecting entity labels from Wikidata\n",
      "Collecting property labels from Wikidata\n"
     ]
    },
    {
     "data": {
      "application/vnd.jupyter.widget-view+json": {
       "model_id": "4d921466cd6b43678a008d7f147f776f",
       "version_major": 2,
       "version_minor": 0
      },
      "text/plain": [
       "Sigma(nx.DiGraph with 6 nodes and 8 edges)"
      ]
     },
     "execution_count": 45,
     "metadata": {},
     "output_type": "execute_result"
    }
   ],
   "source": [
    "top_pred = list(reverse_res2.property_prediction_support[p_country])[0][0]\n",
    "top_pred_paths = forward_res2.property_prediction_paths[p_country][top_pred]\n",
    "# sig = visualize_prediction_path(model_kg, iran_protest_pred_triples, p_country, top_pred, top_pred_paths, pathcount=5)\n",
    "# sig"
   ]
  },
  {
   "cell_type": "markdown",
   "source": [
    "![](../images/ip4.png)"
   ],
   "metadata": {
    "collapsed": false
   }
  },
  {
   "cell_type": "code",
   "execution_count": 47,
   "metadata": {
    "pycharm": {
     "name": "#%%\n"
    }
   },
   "outputs": [
    {
     "name": "stdout",
     "output_type": "stream",
     "text": [
      "Collecting entity labels from Wikidata\n",
      "Collecting property labels from Wikidata\n"
     ]
    },
    {
     "data": {
      "application/vnd.jupyter.widget-view+json": {
       "model_id": "2672dbbfcea34cf3b9611d7218392fd0",
       "version_major": 2,
       "version_minor": 0
      },
      "text/plain": [
       "Sigma(nx.DiGraph with 10 nodes and 14 edges)"
      ]
     },
     "execution_count": 47,
     "metadata": {},
     "output_type": "execute_result"
    }
   ],
   "source": [
    "top_pred = list(reverse_res2.property_prediction_support[p_country])[1][0]\n",
    "top_pred_paths = forward_res2.property_prediction_paths[p_country][top_pred]\n",
    "# sig = visualize_prediction_path(model_kg, iran_protest_pred_triples, p_country, top_pred, top_pred_paths, pathcount=5)\n",
    "# sig"
   ]
  },
  {
   "cell_type": "markdown",
   "source": [
    "![](../images/ip5.png)"
   ],
   "metadata": {
    "collapsed": false
   }
  },
  {
   "cell_type": "code",
   "execution_count": 49,
   "metadata": {
    "pycharm": {
     "name": "#%%\n"
    }
   },
   "outputs": [
    {
     "name": "stdout",
     "output_type": "stream",
     "text": [
      "Collecting entity labels from Wikidata\n",
      "Collecting property labels from Wikidata\n"
     ]
    },
    {
     "data": {
      "application/vnd.jupyter.widget-view+json": {
       "model_id": "f746195835eb4353b896a637cea324ae",
       "version_major": 2,
       "version_minor": 0
      },
      "text/plain": [
       "Sigma(nx.DiGraph with 9 nodes and 13 edges)"
      ]
     },
     "execution_count": 49,
     "metadata": {},
     "output_type": "execute_result"
    }
   ],
   "source": [
    "top_pred = list(reverse_res2.property_prediction_support[p_country])[2][0]\n",
    "top_pred_paths = forward_res2.property_prediction_paths[p_country][top_pred]\n",
    "# sig = visualize_prediction_path(model_kg, iran_protest_pred_triples, p_country, top_pred, top_pred_paths, pathcount=5)\n",
    "# sig"
   ]
  },
  {
   "cell_type": "markdown",
   "source": [
    "![](../images/ip6.png)"
   ],
   "metadata": {
    "collapsed": false
   }
  },
  {
   "cell_type": "code",
   "execution_count": null,
   "outputs": [],
   "source": [],
   "metadata": {
    "collapsed": false,
    "pycharm": {
     "name": "#%%\n"
    }
   }
  },
  {
   "cell_type": "code",
   "execution_count": null,
   "metadata": {},
   "outputs": [],
   "source": []
  }
 ],
 "metadata": {
  "kernelspec": {
   "display_name": "Python 3 (ipykernel)",
   "language": "python",
   "name": "python3"
  },
  "language_info": {
   "codemirror_mode": {
    "name": "ipython",
    "version": 3
   },
   "file_extension": ".py",
   "mimetype": "text/x-python",
   "name": "python",
   "nbconvert_exporter": "python",
   "pygments_lexer": "ipython3",
   "version": "3.8.8"
  }
 },
 "nbformat": 4,
 "nbformat_minor": 1
}