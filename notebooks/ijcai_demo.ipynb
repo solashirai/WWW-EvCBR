{
 "cells": [
  {
   "cell_type": "markdown",
   "source": [
    "This is a notebook to demonstrate the EvCBR Model. We will first load up a model,\n",
    "with some preprocessing already performed on the KG, and demonstrate two examples for\n",
    "predicting properties about the Effect of a new Cause event."
   ],
   "metadata": {
    "collapsed": false,
    "pycharm": {
     "name": "#%% md\n"
    }
   }
  },
  {
   "cell_type": "code",
   "execution_count": 1,
   "metadata": {
    "collapsed": true
   },
   "outputs": [],
   "source": [
    "from evcbr import EvCBR\n",
    "from utils import *\n",
    "from rdflib import Graph, Literal\n",
    "import random\n",
    "from IPython.display import Image"
   ]
  },
  {
   "cell_type": "code",
   "execution_count": null,
   "outputs": [],
   "source": [
    "full_kg_file = (DATA_DIR / \"demo_kg\"/\"wikidata_cc_full_3_hop.nt\").resolve()\n",
    "model_kg_file = (DATA_DIR / \"demo_kg\"/\"wikidata_cc_nolit_3_hop.nt\").resolve()\n",
    "\n",
    "preprocessed_sim_dir = (DATA_DIR / \"pp_wiki_full\").resolve()\n",
    "full_kg = Graph()\n",
    "full_kg.bind(\"wd\", WD)\n",
    "full_kg.bind(\"wdt\", WDT)\n",
    "full_kg.parse(str(full_kg_file), format='nt')\n",
    "# remove literals form the kg to use in the model\n",
    "model_kg = Graph()\n",
    "model_kg.parse(str(model_kg_file), format='nt')\n",
    "add_haseffect_relations(model_kg)\n",
    "\n",
    "model = EvCBR(KG=model_kg, preprocessed_data_dir=preprocessed_sim_dir)"
   ],
   "metadata": {
    "collapsed": false,
    "pycharm": {
     "name": "#%%\n",
     "is_executing": true
    }
   }
  },
  {
   "cell_type": "markdown",
   "source": [
    "Our first example will be to predict the effect of a new Megathrust Earthquake event that occurs in Japan.\n",
    "First we'll query the KG to search for the appropriate URIs to use for our inputs of the new event."
   ],
   "metadata": {
    "collapsed": false,
    "pycharm": {
     "name": "#%% md\n"
    }
   }
  },
  {
   "cell_type": "code",
   "execution_count": null,
   "outputs": [],
   "source": [
    "query_results = full_kg.query(\"\"\"\n",
    "select ?qid ?label\n",
    "where {\n",
    "    ?qid rdfs:label ?label.\n",
    "    filter( regex(?label, \"megathrust earthquake\" ))\n",
    "}\n",
    "\"\"\")\n",
    "print(\"Matching results for Megathrust Earthquake\")\n",
    "for res in query_results:\n",
    "    print(f\"{res.qid} - {res.label}\")"
   ],
   "metadata": {
    "collapsed": false,
    "pycharm": {
     "name": "#%%\n",
     "is_executing": true
    }
   }
  },
  {
   "cell_type": "code",
   "execution_count": null,
   "outputs": [],
   "source": [
    "query_results = full_kg.query(\"\"\"\n",
    "select ?qid ?label\n",
    "where {\n",
    "    ?qid rdfs:label ?label.\n",
    "    filter( regex(?label, \"Japan\" ))\n",
    "}\n",
    "order by strlen(str(?label))\n",
    "\"\"\")\n",
    "# There are a lot of matching results for Japan, so we'll just sort by the length of the label\n",
    "# and show a few of them here\n",
    "print(\"Matching results for Japan\")\n",
    "for res in list(query_results)[:3]:\n",
    "    print(f\"{res.qid} - {res.label}\")\n",
    "print(f\"{len(query_results)-3} more results results ommitted\")"
   ],
   "metadata": {
    "collapsed": false,
    "pycharm": {
     "name": "#%%\n",
     "is_executing": true
    }
   }
  },
  {
   "cell_type": "markdown",
   "source": [
    "We'll select WD:Q17 as our entity for Japan, and WD:Q727990 as our entity for the Megathrust Earthquake class.\n",
    "We'll make our new event as an entity with a \"instanceOf\" relation pointing to the Megathrust Earthquake class, and\n",
    "\"country\" relation to Japan."
   ],
   "metadata": {
    "collapsed": false,
    "pycharm": {
     "name": "#%% md\n"
    }
   }
  },
  {
   "cell_type": "code",
   "execution_count": null,
   "outputs": [],
   "source": [
    "# many methods involve random choices, so set seed for consistent demo\n",
    "random.seed(2023)\n",
    "\n",
    "p_instanceOf = WDT[\"P31\"] # instanceOf\n",
    "p_country = WDT[\"P17\"] # country\n",
    "ent_instanceOf1 = WD[\"Q727990\"] # Megathrust Earthquake\n",
    "ent_country1 = WD[\"Q17\"] # Japan\n",
    "\n",
    "# set up a dummy node for a new \"megathrust earthquake in Japan\" event\n",
    "anon_node1 = WD[\"ex1\"]\n",
    "japan_eq_pred_triples = [\n",
    "    (anon_node1, p_instanceOf, ent_instanceOf1),\n",
    "    (anon_node1, p_country, ent_country1)\n",
    "]\n",
    "\n",
    "# predict the instanceOf and country of the effect event\n",
    "predict_properties = [p_instanceOf, p_country]"
   ],
   "metadata": {
    "collapsed": false,
    "pycharm": {
     "name": "#%%\n",
     "is_executing": true
    }
   }
  },
  {
   "cell_type": "markdown",
   "source": [
    "Run the EvCBR prediction method. We can specify parameters such as how many hops in the KG to explore, how many\n",
    "cases to retrieve, and how many paths to sample.\n",
    "\n",
    "We produce two predictions here: one for our basic prediction method, and a second to produce \"refined\" predictions.\n",
    "Intuitively, our basic prediction method produces initial predictions about the properties of the new Effect event,\n",
    "while the refinement method aims to improve the predictions based on how well they can be used to \"predict\" the\n",
    "input properties used to produce them."
   ],
   "metadata": {
    "collapsed": false,
    "pycharm": {
     "name": "#%% md\n"
    }
   }
  },
  {
   "cell_type": "code",
   "execution_count": null,
   "outputs": [],
   "source": [
    "# set up and run prediction\n",
    "model.set_forecast_triples(japan_eq_pred_triples)\n",
    "forward_res1 = model.forecast_effects(\n",
    "    triples_for_inductive_forecast=japan_eq_pred_triples,\n",
    "    dummy_target_uri=anon_node1,\n",
    "    forecast_relations=predict_properties,\n",
    "    max_hops=3, sample_case_count=4,\n",
    "    sample_case_cov_count=0, sample_path_count=180,\n",
    "    print_info=False,\n",
    "    precomputed_similar_cases=None,\n",
    "    dummy_connecting_relation_uri=WDT_HASEFFECT,\n",
    "    prevent_inverse_paths=False,\n",
    "    save_path_info=True\n",
    ")\n",
    "model.clean_forecast_triples()\n",
    "reverse_res1 = model.forecast_effect_reverse_predictions(\n",
    "                prop_forecasts=forward_res1.property_entity_support,\n",
    "                dummy_target_uri=anon_node1,\n",
    "                triples_for_inductive_forecast=japan_eq_pred_triples,\n",
    "                similar_case_effects=forward_res1.similar_cause_effect_pairs,\n",
    "                max_hops=3,sample_path_count=180,\n",
    "                prevent_inverse_paths=False\n",
    "            )"
   ],
   "metadata": {
    "collapsed": false,
    "pycharm": {
     "name": "#%%\n",
     "is_executing": true
    }
   }
  },
  {
   "cell_type": "markdown",
   "source": [
    "Here we show some visualizations of 4 cases from the KG that were used to make our prediction. Cases are selected\n",
    "based on factors such as the similarity of each property and the relative importance of properties.\n",
    "\n",
    "The causes connection relation is `P1542`."
   ],
   "metadata": {
    "collapsed": false,
    "pycharm": {
     "name": "#%% md\n"
    }
   }
  },
  {
   "cell_type": "code",
   "execution_count": null,
   "outputs": [],
   "source": [
    "from visualizations.vis_cases import *\n",
    "supporting_cases1 = forward_res1.similar_cause_effect_pairs\n",
    "for i in range(4):\n",
    "    print(full_kg.value(subject=supporting_cases1[i].cause, predicate=RDFS.label), \"->\",\n",
    "          full_kg.value(subject=supporting_cases1[i].effect, predicate=RDFS.label))\n",
    "    imname = f'eq_{i}.png'\n",
    "    visualize_supporting_case(c=supporting_cases1[i], kg=full_kg, connecting_prop=WDT_HASEFFECT,\n",
    "                         cause_props=[p_instanceOf, p_country], effect_props=[p_instanceOf, p_country],\n",
    "                              imname=imname,\n",
    "                              workaround_country=ent_country1)"
   ],
   "metadata": {
    "collapsed": false,
    "pycharm": {
     "name": "#%%\n",
     "is_executing": true
    }
   }
  },
  {
   "cell_type": "markdown",
   "source": [
    "The top predictions for the new Effect event's `country` and `instanceOf` properties using the basic prediction\n",
    "method are as follows:"
   ],
   "metadata": {
    "collapsed": false,
    "pycharm": {
     "name": "#%% md\n"
    }
   }
  },
  {
   "cell_type": "code",
   "execution_count": null,
   "outputs": [],
   "source": [
    "print(\"Top predictions for the effect event's country relation\")\n",
    "for (prediction, supp) in list(forward_res1.property_entity_support[p_country].items())[:7]:\n",
    "    ent_label = full_kg.value(subject=prediction, predicate=RDFS.label)\n",
    "    print(f\"{ent_label} ({prediction})\")\n",
    "print(\"====\")\n",
    "print(\"Top predictions for the effect event's instanceOf relation\")\n",
    "for (prediction, supp) in list(forward_res1.property_entity_support[p_instanceOf].items())[:7]:\n",
    "    ent_label = full_kg.value(subject=prediction, predicate=RDFS.label)\n",
    "    print(f\"{ent_label} ({prediction})\")"
   ],
   "metadata": {
    "collapsed": false,
    "pycharm": {
     "name": "#%%\n",
     "is_executing": true
    }
   }
  },
  {
   "cell_type": "markdown",
   "source": [
    "The top predictions based on our refinement method are:"
   ],
   "metadata": {
    "collapsed": false,
    "pycharm": {
     "name": "#%% md\n"
    }
   }
  },
  {
   "cell_type": "code",
   "execution_count": null,
   "outputs": [],
   "source": [
    "print(\"Refined predictions for the effect event's country relation\")\n",
    "for (prediction, supp) in reverse_res1.property_prediction_support[p_country][:7]:\n",
    "    ent_label = full_kg.value(subject=prediction, predicate=RDFS.label)\n",
    "    print(f\"{ent_label} ({prediction})\")\n",
    "print(\"====\")\n",
    "print(\"Refined predictions for the effect event's instanceOf relation\")\n",
    "for (prediction, supp) in reverse_res1.property_prediction_support[p_instanceOf][:7]:\n",
    "    ent_label = full_kg.value(subject=prediction, predicate=RDFS.label)\n",
    "    print(f\"{ent_label} ({prediction})\")"
   ],
   "metadata": {
    "collapsed": false,
    "pycharm": {
     "name": "#%%\n",
     "is_executing": true
    }
   }
  },
  {
   "cell_type": "markdown",
   "source": [
    "We can see some a mixture of some good and bad predictions from both methods. In general the refined predictions\n",
    "appear to do a better job of predicting that an effect will occur in Japan, specific areas in Japan, or countries\n",
    "that are geographically/politically close to Japan.\n",
    "\n",
    "The refinement method sometimes leads to some less desirable predictions for the effect's instanceOf,\n",
    "such as classes that aren't types of events. Since several of the similar cases used to make predictions were\n",
    "events where a megathrust earthquake caused the occurrence of more earthquakes, we can see how many of our predictions\n",
    "in turn are different varieties of earthquakes."
   ],
   "metadata": {
    "collapsed": false,
    "pycharm": {
     "name": "#%% md\n"
    }
   }
  },
  {
   "cell_type": "markdown",
   "source": [
    "Next, we'll look at an example for predicting the effects of an ongoing event, specifically the\n",
    "recent Protests in Iran.\n",
    "\n",
    "We once again will perform predictions using some minimal input properties."
   ],
   "metadata": {
    "collapsed": false,
    "pycharm": {
     "name": "#%% md\n"
    }
   }
  },
  {
   "cell_type": "code",
   "execution_count": null,
   "outputs": [],
   "source": [
    "query_results = full_kg.query(\"\"\"\n",
    "select ?qid ?label\n",
    "where {\n",
    "    ?qid rdfs:label ?label.\n",
    "    filter( regex(?label, \"protest\" ))\n",
    "}\n",
    "order by strlen(str(?label))\n",
    "\"\"\")\n",
    "print(\"Matching results for Protest\")\n",
    "for res in list(query_results)[:3]:\n",
    "    print(f\"{res.qid} - {res.label}\")\n",
    "print(f\"{len(query_results)-3} more results results ommitted\")"
   ],
   "metadata": {
    "collapsed": false,
    "pycharm": {
     "name": "#%%\n",
     "is_executing": true
    }
   }
  },
  {
   "cell_type": "code",
   "execution_count": null,
   "outputs": [],
   "source": [
    "query_results = full_kg.query(\"\"\"\n",
    "select ?qid ?label\n",
    "where {\n",
    "    ?qid rdfs:label ?label.\n",
    "    filter( regex(?label, \"Iran\" ))\n",
    "}\n",
    "order by strlen(str(?label))\n",
    "\"\"\")\n",
    "# There are a lot of matching results for Japan, so we'll just sort by the length of the label\n",
    "# and show a few of them here\n",
    "print(\"Matching results for Iran\")\n",
    "for res in list(query_results)[:3]:\n",
    "    print(f\"{res.qid} - {res.label}\")\n",
    "print(f\"{len(query_results)-3} more results results ommitted\")"
   ],
   "metadata": {
    "collapsed": false,
    "pycharm": {
     "name": "#%%\n",
     "is_executing": true
    }
   }
  },
  {
   "cell_type": "markdown",
   "source": [
    "We'll select WD:Q794 as our entity for Iran, and WD:Q273120 as our entity for the protest class."
   ],
   "metadata": {
    "collapsed": false
   }
  },
  {
   "cell_type": "code",
   "execution_count": null,
   "outputs": [],
   "source": [
    "# PROTEST in IRAN example\n",
    "\n",
    "# many methods involve random choices, so set seed for consistent demo\n",
    "random.seed(2022)\n",
    "\n",
    "p_instanceOf = WDT[\"P31\"] # instanceOf\n",
    "p_country = WDT[\"P17\"] # country\n",
    "ent_instanceOf2 = WD[\"Q273120\"] # Protest\n",
    "ent_country2 = WD[\"Q794\"] # Iran\n",
    "\n",
    "# set up a dummy node for a new \"protest in Iran\" event\n",
    "anon_node2 = WD[\"ex2\"]\n",
    "iran_protest_pred_triples = [\n",
    "    (anon_node2, p_instanceOf, ent_instanceOf2),\n",
    "    (anon_node2, p_country, ent_country2)\n",
    "]\n",
    "\n",
    "# predict the instanceOf and country of the effect event\n",
    "predict_properties = [p_instanceOf, p_country]"
   ],
   "metadata": {
    "collapsed": false,
    "pycharm": {
     "name": "#%%\n",
     "is_executing": true
    }
   }
  },
  {
   "cell_type": "code",
   "execution_count": null,
   "outputs": [],
   "source": [
    "# set up and run prediction\n",
    "model.set_forecast_triples(iran_protest_pred_triples)\n",
    "forward_res2 = model.forecast_effects(\n",
    "    triples_for_inductive_forecast=iran_protest_pred_triples,\n",
    "    dummy_target_uri=anon_node2,\n",
    "    forecast_relations=predict_properties,\n",
    "    max_hops=3, sample_case_count=5,\n",
    "    sample_case_cov_count=2, sample_path_count=180,\n",
    "    print_info=False,\n",
    "    precomputed_similar_cases=None,\n",
    "    dummy_connecting_relation_uri=WDT_HASEFFECT,\n",
    "    prevent_inverse_paths=False,\n",
    "    save_path_info=True\n",
    ")\n",
    "model.clean_forecast_triples()\n",
    "reverse_res2 = model.forecast_effect_reverse_predictions(\n",
    "                prop_forecasts=forward_res2.property_entity_support,\n",
    "                dummy_target_uri=anon_node2,\n",
    "                triples_for_inductive_forecast=iran_protest_pred_triples,\n",
    "                similar_case_effects=forward_res2.similar_cause_effect_pairs,\n",
    "                max_hops=3,sample_path_count=180,\n",
    "                prevent_inverse_paths=False\n",
    "            )\n"
   ],
   "metadata": {
    "collapsed": false,
    "pycharm": {
     "name": "#%%\n",
     "is_executing": true
    }
   }
  },
  {
   "cell_type": "markdown",
   "source": [
    "We once again visualize the cases retrieved to make our prediction. Recall that `P1542` is the causal relation\n",
    "`hasEffect` in our dataset."
   ],
   "metadata": {
    "collapsed": false,
    "pycharm": {
     "name": "#%% md\n"
    }
   }
  },
  {
   "cell_type": "code",
   "execution_count": null,
   "outputs": [],
   "source": [
    "from visualizations.vis_cases import *\n",
    "supporting_cases2 = forward_res2.similar_cause_effect_pairs\n",
    "for i in range(4):\n",
    "    print(full_kg.value(subject=supporting_cases2[i].cause, predicate=RDFS.label), \"->\",\n",
    "          full_kg.value(subject=supporting_cases2[i].effect, predicate=RDFS.label))\n",
    "    imname = f'ir_{i}.png'\n",
    "    visualize_supporting_case(c=supporting_cases2[i], kg=full_kg, connecting_prop=WDT_HASEFFECT,\n",
    "                         cause_props=[p_instanceOf, p_country], effect_props=[p_instanceOf, p_country],\n",
    "                              imname=imname,\n",
    "                              workaround_country=ent_country2)"
   ],
   "metadata": {
    "collapsed": false,
    "pycharm": {
     "name": "#%%\n",
     "is_executing": true
    }
   }
  },
  {
   "cell_type": "markdown",
   "source": [
    "Several example cases drawn from the KG appear to be very relevant to our new event, such as the\n",
    "Bahraini protests, Chilean protests, and Iranian Revolution. The Bahraini protests appeared to be the most similar\n",
    "to our new event, given that it had an exact match to the type of cause event and because Bahrain is more similar to\n",
    "Iran than Chile.\n",
    "\n",
    "We also see an example of a somewhat less desirable case, which is largely an artifact of how Wikidata is\n",
    "currently populated. The COVID-19 pandemic, and a Cuban protest caused by the pandemic, are listed among the\n",
    "similar cases used in this example. Wikidata's entry for COVID-19 lists over 100 countries which were affected, which\n",
    "leads to this event having a match for the country Iran with our new Cause event. Arguably, the pandemic and its effects\n",
    "may be relevant to considering what the effects of a new event in Iran are, but the breadth of this particular event is\n",
    "not ideal.\n",
    "\n",
    "This example demonstrates how (1) some peculiarities in the underlying KG can lead to odd choices of\n",
    "cases that are retrieved, and (2) the availability of relevant events in the KG can limit how good the\n",
    "\"best\" cases are."
   ],
   "metadata": {
    "collapsed": false,
    "pycharm": {
     "name": "#%% md\n"
    }
   }
  },
  {
   "cell_type": "markdown",
   "source": [
    "\n",
    "The top predictions for the new Effect event's for our Protest in Iran example using the basic method are:\n"
   ],
   "metadata": {
    "collapsed": false,
    "pycharm": {
     "name": "#%% md\n"
    }
   }
  },
  {
   "cell_type": "code",
   "execution_count": null,
   "outputs": [],
   "source": [
    "print(\"Top predictions for the effect event's country relation\")\n",
    "for (prediction, supp) in list(forward_res2.property_entity_support[p_country].items())[:7]:\n",
    "    ent_label = full_kg.value(subject=prediction, predicate=RDFS.label)\n",
    "    print(f\"{ent_label} ({prediction})\")\n",
    "print(\"====\")\n",
    "print(\"Top predictions for the effect event's instanceOf relation\")\n",
    "for (prediction, supp) in list(forward_res2.property_entity_support[p_instanceOf].items())[:7]:\n",
    "    ent_label = full_kg.value(subject=prediction, predicate=RDFS.label)\n",
    "    print(f\"{ent_label} ({prediction})\")"
   ],
   "metadata": {
    "collapsed": false,
    "pycharm": {
     "name": "#%%\n",
     "is_executing": true
    }
   }
  },
  {
   "cell_type": "code",
   "execution_count": null,
   "outputs": [],
   "source": [
    "\n",
    "print(\"Refined predictions for the effect event's country relation\")\n",
    "for (prediction, supp) in reverse_res2.property_prediction_support[p_country][:7]:\n",
    "    ent_label = full_kg.value(subject=prediction, predicate=RDFS.label)\n",
    "    print(f\"{ent_label} ({prediction})\")\n",
    "print(\"====\")\n",
    "print(\"Refined predictions for the effect event's instanceOf relation\")\n",
    "for (prediction, supp) in reverse_res2.property_prediction_support[p_instanceOf][:7]:\n",
    "    ent_label = full_kg.value(subject=prediction, predicate=RDFS.label)\n",
    "    print(f\"{ent_label} ({prediction})\")"
   ],
   "metadata": {
    "collapsed": false,
    "pycharm": {
     "name": "#%%\n",
     "is_executing": true
    }
   }
  },
  {
   "cell_type": "markdown",
   "source": [
    "This time our refinement method seems to produce more convincing improvements to the predictions. In particular,\n",
    "the predictions for the country using the basic prediction lead to some questionable results, such as\n",
    "old empires, while the refined predictions list relevant countries like Iran, Iraq, and Azerbaijan.\n",
    "\n",
    "The refinement for the instanceOf of the effect are slightly harder to judge, with both methods producing\n",
    "some reasonable options such as how this event might lead to further protests, demonstrations, rebellion,\n",
    "and police brutality.\n"
   ],
   "metadata": {
    "collapsed": false,
    "pycharm": {
     "name": "#%% md\n"
    }
   }
  }
 ],
 "metadata": {
  "kernelspec": {
   "display_name": "Python 3",
   "language": "python",
   "name": "python3"
  },
  "language_info": {
   "codemirror_mode": {
    "name": "ipython",
    "version": 2
   },
   "file_extension": ".py",
   "mimetype": "text/x-python",
   "name": "python",
   "nbconvert_exporter": "python",
   "pygments_lexer": "ipython2",
   "version": "2.7.6"
  }
 },
 "nbformat": 4,
 "nbformat_minor": 0
}